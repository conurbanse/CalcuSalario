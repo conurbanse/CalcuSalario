{
  "nbformat": 4,
  "nbformat_minor": 0,
  "metadata": {
    "colab": {
      "provenance": []
    },
    "kernelspec": {
      "name": "python3",
      "display_name": "Python 3"
    },
    "language_info": {
      "name": "python"
    }
  },
  "cells": [
    {
      "cell_type": "code",
      "source": [
        "!pip install flask pyngrok"
      ],
      "metadata": {
        "colab": {
          "base_uri": "https://localhost:8080/"
        },
        "id": "VqbHol3JTSr_",
        "outputId": "5c5b6cb2-3818-478d-f914-cc27cf8fc734"
      },
      "execution_count": 1,
      "outputs": [
        {
          "output_type": "stream",
          "name": "stdout",
          "text": [
            "Requirement already satisfied: flask in /usr/local/lib/python3.10/dist-packages (2.2.5)\n",
            "Collecting pyngrok\n",
            "  Downloading pyngrok-7.2.0-py3-none-any.whl.metadata (7.4 kB)\n",
            "Requirement already satisfied: Werkzeug>=2.2.2 in /usr/local/lib/python3.10/dist-packages (from flask) (3.0.3)\n",
            "Requirement already satisfied: Jinja2>=3.0 in /usr/local/lib/python3.10/dist-packages (from flask) (3.1.4)\n",
            "Requirement already satisfied: itsdangerous>=2.0 in /usr/local/lib/python3.10/dist-packages (from flask) (2.2.0)\n",
            "Requirement already satisfied: click>=8.0 in /usr/local/lib/python3.10/dist-packages (from flask) (8.1.7)\n",
            "Requirement already satisfied: PyYAML>=5.1 in /usr/local/lib/python3.10/dist-packages (from pyngrok) (6.0.1)\n",
            "Requirement already satisfied: MarkupSafe>=2.0 in /usr/local/lib/python3.10/dist-packages (from Jinja2>=3.0->flask) (2.1.5)\n",
            "Downloading pyngrok-7.2.0-py3-none-any.whl (22 kB)\n",
            "Installing collected packages: pyngrok\n",
            "Successfully installed pyngrok-7.2.0\n"
          ]
        }
      ]
    },
    {
      "cell_type": "code",
      "source": [
        "from flask import Flask, render_template_string, request\n",
        "from pyngrok import ngrok\n"
      ],
      "metadata": {
        "id": "ItkTp-7HO6lt"
      },
      "execution_count": 2,
      "outputs": []
    },
    {
      "cell_type": "code",
      "source": [
        "!ngrok authtoken 2joTtbK1dLq8wGpfwu3aUzz3r83_3RtvMEa2QazhDFauAHHaG"
      ],
      "metadata": {
        "colab": {
          "base_uri": "https://localhost:8080/"
        },
        "id": "Su1tL9BZUX_H",
        "outputId": "1404465b-498a-4deb-e1a9-2b46fb32bb6b"
      },
      "execution_count": 3,
      "outputs": [
        {
          "output_type": "stream",
          "name": "stdout",
          "text": [
            "Authtoken saved to configuration file: /root/.config/ngrok/ngrok.yml\n"
          ]
        }
      ]
    },
    {
      "cell_type": "code",
      "source": [
        "app = Flask(__name__)"
      ],
      "metadata": {
        "id": "gRzRyTd4O_nL"
      },
      "execution_count": 4,
      "outputs": []
    },
    {
      "cell_type": "code",
      "source": [
        "# Diccionarios de salarios básicos\n",
        "salarios_basicos = {\n",
        "    'universitario': {\n",
        "        'exclusiva': {\n",
        "            'titular': 1075653.51,\n",
        "            'asociado': 957176.30,\n",
        "            'adjunto': 839116.94,\n",
        "            'jtp': 720636.38,\n",
        "            'ayudante1': 602033.49\n",
        "        },\n",
        "        'semiexclusiva': {\n",
        "            'titular': 537827.72,\n",
        "            'asociado': 478587.88,\n",
        "            'adjunto': 419555.13,\n",
        "            'jtp': 360318.60,\n",
        "            'ayudante1': 301015.84\n",
        "        },\n",
        "        'simple': {\n",
        "            'titular': 268914.04,\n",
        "            'asociado': 239291.49,\n",
        "            'adjunto': 209776.30,\n",
        "            'jtp': 180158.04,\n",
        "            'ayudante1': 150506.09,\n",
        "            'ayudante2': 120406.18\n",
        "        }\n",
        "    },\n",
        "    'preuniversitario': {\n",
        "        # Añadir los valores correspondientes aquí si es necesario\n",
        "    }\n",
        "}\n"
      ],
      "metadata": {
        "id": "D73FgPhMPED7"
      },
      "execution_count": 5,
      "outputs": []
    },
    {
      "cell_type": "code",
      "source": [
        "def calcular_salario(tipo_docente, categoria, dedicacion, antiguedad):\n",
        "    # Obtener salario básico\n",
        "    salario_basico = salarios_basicos[tipo_docente][dedicacion][categoria]\n",
        "\n",
        "    # Calcular adicional por antigüedad\n",
        "    porcentaje_antiguedad = 0.02 * antiguedad\n",
        "    adicional_antiguedad = salario_basico * porcentaje_antiguedad\n",
        "\n",
        "    # Calcular salario total\n",
        "    salario_total = salario_basico + adicional_antiguedad\n",
        "\n",
        "    return salario_total"
      ],
      "metadata": {
        "id": "EsTEXOirPFWi"
      },
      "execution_count": 6,
      "outputs": []
    },
    {
      "cell_type": "code",
      "source": [
        "# Plantilla HTML para el formulario\n",
        "formulario_html = '''\n",
        "<!doctype html>\n",
        "<html lang=\"en\">\n",
        "<head>\n",
        "    <meta charset=\"utf-8\">\n",
        "    <title>Calculo de Salario</title>\n",
        "    <style>\n",
        "        body {\n",
        "            background-color: #FFA07A;\n",
        "            color: #000080;\n",
        "            font-family: Arial, sans-serif;\n",
        "        }\n",
        "        .container {\n",
        "            max-width: 600px;\n",
        "            margin: auto;\n",
        "            padding: 20px;\n",
        "            border-radius: 10px;\n",
        "            box-shadow: 0px 0px 10px 0px #000;\n",
        "            background-color: #FFF5EE;\n",
        "        }\n",
        "        label {\n",
        "            display: block;\n",
        "            margin-bottom: 10px;\n",
        "        }\n",
        "        input[type=\"submit\"] {\n",
        "            background-color: #000080;\n",
        "            color: white;\n",
        "            border: none;\n",
        "            padding: 10px 20px;\n",
        "            cursor: pointer;\n",
        "        }\n",
        "        input[type=\"submit\"]:hover {\n",
        "            background-color: #0000CD;\n",
        "        }\n",
        "    </style>\n",
        "</head>\n",
        "<body>\n",
        "    <div class=\"container\">\n",
        "        <h1>Calculo de Salario Docente</h1>\n",
        "        <form action=\"/calcular\" method=\"post\">\n",
        "            <label for=\"tipo_docente\">Tipo de docente:</label>\n",
        "            <select name=\"tipo_docente\" id=\"tipo_docente\">\n",
        "                <option value=\"universitario\">Universitario</option>\n",
        "                <option value=\"preuniversitario\">Preuniversitario</option>\n",
        "            </select><br>\n",
        "\n",
        "            <label for=\"categoria\">Categoría:</label>\n",
        "            <select name=\"categoria\" id=\"categoria\">\n",
        "                <option value=\"titular\">Titular</option>\n",
        "                <option value=\"asociado\">Asociado</option>\n",
        "                <option value=\"adjunto\">Adjunto</option>\n",
        "                <option value=\"jtp\">JTP</option>\n",
        "                <option value=\"ayudante1\">Ayudante 1</option>\n",
        "                <option value=\"ayudante2\">Ayudante 2</option>\n",
        "            </select><br>\n",
        "\n",
        "            <label for=\"dedicacion\">Dedicación:</label>\n",
        "            <select name=\"dedicacion\" id=\"dedicacion\">\n",
        "                <option value=\"exclusiva\">Exclusiva</option>\n",
        "                <option value=\"semiexclusiva\">Semiexclusiva</option>\n",
        "                <option value=\"simple\">Simple</option>\n",
        "            </select><br>\n",
        "\n",
        "            <label for=\"antiguedad\">Antigüedad (años):</label>\n",
        "            <input type=\"number\" id=\"antiguedad\" name=\"antiguedad\"><br>\n",
        "\n",
        "            <input type=\"submit\" value=\"Calcular\">\n",
        "        </form>\n",
        "    </div>\n",
        "</body>\n",
        "</html>\n",
        "'''"
      ],
      "metadata": {
        "id": "GiC37NlGQbtq"
      },
      "execution_count": 7,
      "outputs": []
    },
    {
      "cell_type": "code",
      "source": [
        "# Plantilla HTML para el resultado\n",
        "resultado_html = '''\n",
        "<!doctype html>\n",
        "<html lang=\"en\">\n",
        "<head>\n",
        "    <meta charset=\"utf-8\">\n",
        "    <title>Resultado del Calculo de Salario</title>\n",
        "    <style>\n",
        "        body {\n",
        "            background-color: #FFA07A;\n",
        "            color: #000080;\n",
        "            font-family: Arial, sans-serif;\n",
        "        }\n",
        "        .container {\n",
        "            max-width: 600px;\n",
        "            margin: auto;\n",
        "            padding: 20px;\n",
        "            border-radius: 10px;\n",
        "            box-shadow: 0px 0px 10px 0px #000;\n",
        "            background-color: #FFF5EE;\n",
        "        }\n",
        "    </style>\n",
        "</head>\n",
        "<body>\n",
        "    <div class=\"container\">\n",
        "        <h1>Resultado del Calculo de Salario</h1>\n",
        "        <p>El salario total es: ${{ \"{:.2f}\".format(salario) }}</p>\n",
        "        <a href=\"/\">Calcular de nuevo</a>\n",
        "    </div>\n",
        "</body>\n",
        "</html>\n",
        "'''"
      ],
      "metadata": {
        "id": "oeOn2xTIQaoD"
      },
      "execution_count": 8,
      "outputs": []
    },
    {
      "cell_type": "code",
      "source": [
        "@app.route('/')\n",
        "def index():\n",
        "    return render_template_string(formulario_html)"
      ],
      "metadata": {
        "id": "XaPEItxGPJ7-"
      },
      "execution_count": 9,
      "outputs": []
    },
    {
      "cell_type": "code",
      "source": [
        "@app.route('/calcular', methods=['POST'])\n",
        "def calcular():\n",
        "    tipo_docente = request.form['tipo_docente'].lower()\n",
        "    categoria = request.form['categoria'].lower()\n",
        "    dedicacion = request.form['dedicacion'].lower()\n",
        "    antiguedad = int(request.form['antiguedad'])\n",
        "\n",
        "    salario = calcular_salario(tipo_docente, categoria, dedicacion, antiguedad)\n",
        "    return render_template_string(resultado_html, salario=salario)"
      ],
      "metadata": {
        "id": "zoSNEsqLQG9g"
      },
      "execution_count": 10,
      "outputs": []
    },
    {
      "cell_type": "code",
      "source": [
        "# Inicia el túnel ngrok\n",
        "public_url = ngrok.connect(5000)\n",
        "print(f\" * ngrok tunnel \\\"{public_url}\\\" -> \\\"http://127.0.0.1:5000/\\\"\")\n"
      ],
      "metadata": {
        "colab": {
          "base_uri": "https://localhost:8080/"
        },
        "id": "ew6Qi37fTlZw",
        "outputId": "157949d1-3557-4c9f-dd10-01e65ca5e651"
      },
      "execution_count": 11,
      "outputs": [
        {
          "output_type": "stream",
          "name": "stdout",
          "text": [
            " * ngrok tunnel \"NgrokTunnel: \"https://4fb7-34-90-20-12.ngrok-free.app\" -> \"http://localhost:5000\"\" -> \"http://127.0.0.1:5000/\"\n"
          ]
        }
      ]
    },
    {
      "cell_type": "code",
      "source": [
        "if __name__ == '__main__':\n",
        "    app.run()"
      ],
      "metadata": {
        "colab": {
          "base_uri": "https://localhost:8080/"
        },
        "id": "eCN-2TMGQQYi",
        "outputId": "c3227f07-aaec-4188-82e3-3f7dae176d7d"
      },
      "execution_count": null,
      "outputs": [
        {
          "output_type": "stream",
          "name": "stdout",
          "text": [
            " * Serving Flask app '__main__'\n",
            " * Debug mode: off\n"
          ]
        },
        {
          "output_type": "stream",
          "name": "stderr",
          "text": [
            "INFO:werkzeug:\u001b[31m\u001b[1mWARNING: This is a development server. Do not use it in a production deployment. Use a production WSGI server instead.\u001b[0m\n",
            " * Running on http://127.0.0.1:5000\n",
            "INFO:werkzeug:\u001b[33mPress CTRL+C to quit\u001b[0m\n",
            "INFO:werkzeug:127.0.0.1 - - [29/Jul/2024 22:55:04] \"GET / HTTP/1.1\" 200 -\n",
            "INFO:werkzeug:127.0.0.1 - - [29/Jul/2024 22:55:04] \"\u001b[33mGET /favicon.ico HTTP/1.1\u001b[0m\" 404 -\n",
            "INFO:werkzeug:127.0.0.1 - - [29/Jul/2024 22:55:11] \"GET / HTTP/1.1\" 200 -\n",
            "INFO:werkzeug:127.0.0.1 - - [29/Jul/2024 23:00:05] \"GET / HTTP/1.1\" 200 -\n",
            "INFO:werkzeug:127.0.0.1 - - [29/Jul/2024 23:00:06] \"\u001b[33mGET /favicon.ico HTTP/1.1\u001b[0m\" 404 -\n",
            "INFO:werkzeug:127.0.0.1 - - [29/Jul/2024 23:00:21] \"POST /calcular HTTP/1.1\" 200 -\n",
            "INFO:werkzeug:127.0.0.1 - - [29/Jul/2024 23:00:42] \"POST /calcular HTTP/1.1\" 200 -\n",
            "INFO:werkzeug:127.0.0.1 - - [29/Jul/2024 23:03:26] \"GET / HTTP/1.1\" 200 -\n",
            "ERROR:__main__:Exception on /calcular [POST]\n",
            "Traceback (most recent call last):\n",
            "  File \"/usr/local/lib/python3.10/dist-packages/flask/app.py\", line 2529, in wsgi_app\n",
            "    response = self.full_dispatch_request()\n",
            "  File \"/usr/local/lib/python3.10/dist-packages/flask/app.py\", line 1825, in full_dispatch_request\n",
            "    rv = self.handle_user_exception(e)\n",
            "  File \"/usr/local/lib/python3.10/dist-packages/flask/app.py\", line 1823, in full_dispatch_request\n",
            "    rv = self.dispatch_request()\n",
            "  File \"/usr/local/lib/python3.10/dist-packages/flask/app.py\", line 1799, in dispatch_request\n",
            "    return self.ensure_sync(self.view_functions[rule.endpoint])(**view_args)\n",
            "  File \"<ipython-input-10-6f567683f484>\", line 6, in calcular\n",
            "    antiguedad = int(request.form['antiguedad'])\n",
            "ValueError: invalid literal for int() with base 10: ''\n",
            "INFO:werkzeug:127.0.0.1 - - [29/Jul/2024 23:03:36] \"\u001b[35m\u001b[1mPOST /calcular HTTP/1.1\u001b[0m\" 500 -\n",
            "INFO:werkzeug:127.0.0.1 - - [29/Jul/2024 23:03:39] \"GET / HTTP/1.1\" 200 -\n",
            "INFO:werkzeug:127.0.0.1 - - [29/Jul/2024 23:03:51] \"POST /calcular HTTP/1.1\" 200 -\n"
          ]
        }
      ]
    },
    {
      "cell_type": "code",
      "source": [],
      "metadata": {
        "id": "cC1HU7lQQHf9"
      },
      "execution_count": null,
      "outputs": []
    }
  ]
}